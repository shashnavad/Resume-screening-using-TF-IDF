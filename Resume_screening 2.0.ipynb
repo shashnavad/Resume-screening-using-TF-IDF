{
  "nbformat": 4,
  "nbformat_minor": 0,
  "metadata": {
    "colab": {
      "provenance": []
    },
    "kernelspec": {
      "name": "python3",
      "display_name": "Python 3"
    },
    "language_info": {
      "name": "python"
    }
  },
  "cells": [
    {
      "cell_type": "code",
      "source": [
        "import re\n",
        "import numpy as np\n",
        "import pandas as pd\n",
        "import pickle\n",
        "import nltk\n",
        "import re\n",
        "import gensim\n",
        "from gensim.parsing.preprocessing import remove_stopwords\n",
        "from gensim import corpora\n",
        "from sklearn.feature_extraction.text import TfidfVectorizer\n",
        "import heapq\n",
        "from nltk.corpus import stopwords\n",
        "from nltk.tokenize import word_tokenize\n",
        "from nltk.stem.wordnet import WordNetLemmatizer\n",
        "nltk.download('stopwords')\n",
        "nltk.download('punkt')\n",
        "nltk.download('wordnet')\n",
        "nltk.download('omw-1.4')"
      ],
      "metadata": {
        "colab": {
          "base_uri": "https://localhost:8080/"
        },
        "id": "LFYVwrn-JTCi",
        "outputId": "9bd5181e-664d-4d74-ab4a-65d200006331"
      },
      "execution_count": 14,
      "outputs": [
        {
          "output_type": "stream",
          "name": "stderr",
          "text": [
            "[nltk_data] Downloading package stopwords to /root/nltk_data...\n",
            "[nltk_data]   Package stopwords is already up-to-date!\n",
            "[nltk_data] Downloading package punkt to /root/nltk_data...\n",
            "[nltk_data]   Package punkt is already up-to-date!\n",
            "[nltk_data] Downloading package wordnet to /root/nltk_data...\n",
            "[nltk_data]   Package wordnet is already up-to-date!\n",
            "[nltk_data] Downloading package omw-1.4 to /root/nltk_data...\n",
            "[nltk_data]   Package omw-1.4 is already up-to-date!\n"
          ]
        },
        {
          "output_type": "execute_result",
          "data": {
            "text/plain": [
              "True"
            ]
          },
          "metadata": {},
          "execution_count": 14
        }
      ]
    },
    {
      "cell_type": "code",
      "source": [
        "meta_df = pd.read_csv('ResumeDataSet.csv')\n",
        "meta_df.head(3)"
      ],
      "metadata": {
        "colab": {
          "base_uri": "https://localhost:8080/",
          "height": 143
        },
        "id": "KasAoY9OJWR1",
        "outputId": "a6049d9a-8659-4e53-fb65-ba35418f87cb"
      },
      "execution_count": 15,
      "outputs": [
        {
          "output_type": "execute_result",
          "data": {
            "text/plain": [
              "       Category                                             Resume\n",
              "0  Data Science  Skills * Programming Languages: Python (pandas...\n",
              "1  Data Science  Education Details \\r\\nMay 2013 to May 2017 B.E...\n",
              "2  Data Science  Areas of Interest Deep Learning, Control Syste..."
            ],
            "text/html": [
              "\n",
              "  <div id=\"df-70209c47-4c08-4286-9506-3e8f9f55cb75\">\n",
              "    <div class=\"colab-df-container\">\n",
              "      <div>\n",
              "<style scoped>\n",
              "    .dataframe tbody tr th:only-of-type {\n",
              "        vertical-align: middle;\n",
              "    }\n",
              "\n",
              "    .dataframe tbody tr th {\n",
              "        vertical-align: top;\n",
              "    }\n",
              "\n",
              "    .dataframe thead th {\n",
              "        text-align: right;\n",
              "    }\n",
              "</style>\n",
              "<table border=\"1\" class=\"dataframe\">\n",
              "  <thead>\n",
              "    <tr style=\"text-align: right;\">\n",
              "      <th></th>\n",
              "      <th>Category</th>\n",
              "      <th>Resume</th>\n",
              "    </tr>\n",
              "  </thead>\n",
              "  <tbody>\n",
              "    <tr>\n",
              "      <th>0</th>\n",
              "      <td>Data Science</td>\n",
              "      <td>Skills * Programming Languages: Python (pandas...</td>\n",
              "    </tr>\n",
              "    <tr>\n",
              "      <th>1</th>\n",
              "      <td>Data Science</td>\n",
              "      <td>Education Details \\r\\nMay 2013 to May 2017 B.E...</td>\n",
              "    </tr>\n",
              "    <tr>\n",
              "      <th>2</th>\n",
              "      <td>Data Science</td>\n",
              "      <td>Areas of Interest Deep Learning, Control Syste...</td>\n",
              "    </tr>\n",
              "  </tbody>\n",
              "</table>\n",
              "</div>\n",
              "      <button class=\"colab-df-convert\" onclick=\"convertToInteractive('df-70209c47-4c08-4286-9506-3e8f9f55cb75')\"\n",
              "              title=\"Convert this dataframe to an interactive table.\"\n",
              "              style=\"display:none;\">\n",
              "        \n",
              "  <svg xmlns=\"http://www.w3.org/2000/svg\" height=\"24px\"viewBox=\"0 0 24 24\"\n",
              "       width=\"24px\">\n",
              "    <path d=\"M0 0h24v24H0V0z\" fill=\"none\"/>\n",
              "    <path d=\"M18.56 5.44l.94 2.06.94-2.06 2.06-.94-2.06-.94-.94-2.06-.94 2.06-2.06.94zm-11 1L8.5 8.5l.94-2.06 2.06-.94-2.06-.94L8.5 2.5l-.94 2.06-2.06.94zm10 10l.94 2.06.94-2.06 2.06-.94-2.06-.94-.94-2.06-.94 2.06-2.06.94z\"/><path d=\"M17.41 7.96l-1.37-1.37c-.4-.4-.92-.59-1.43-.59-.52 0-1.04.2-1.43.59L10.3 9.45l-7.72 7.72c-.78.78-.78 2.05 0 2.83L4 21.41c.39.39.9.59 1.41.59.51 0 1.02-.2 1.41-.59l7.78-7.78 2.81-2.81c.8-.78.8-2.07 0-2.86zM5.41 20L4 18.59l7.72-7.72 1.47 1.35L5.41 20z\"/>\n",
              "  </svg>\n",
              "      </button>\n",
              "      \n",
              "  <style>\n",
              "    .colab-df-container {\n",
              "      display:flex;\n",
              "      flex-wrap:wrap;\n",
              "      gap: 12px;\n",
              "    }\n",
              "\n",
              "    .colab-df-convert {\n",
              "      background-color: #E8F0FE;\n",
              "      border: none;\n",
              "      border-radius: 50%;\n",
              "      cursor: pointer;\n",
              "      display: none;\n",
              "      fill: #1967D2;\n",
              "      height: 32px;\n",
              "      padding: 0 0 0 0;\n",
              "      width: 32px;\n",
              "    }\n",
              "\n",
              "    .colab-df-convert:hover {\n",
              "      background-color: #E2EBFA;\n",
              "      box-shadow: 0px 1px 2px rgba(60, 64, 67, 0.3), 0px 1px 3px 1px rgba(60, 64, 67, 0.15);\n",
              "      fill: #174EA6;\n",
              "    }\n",
              "\n",
              "    [theme=dark] .colab-df-convert {\n",
              "      background-color: #3B4455;\n",
              "      fill: #D2E3FC;\n",
              "    }\n",
              "\n",
              "    [theme=dark] .colab-df-convert:hover {\n",
              "      background-color: #434B5C;\n",
              "      box-shadow: 0px 1px 3px 1px rgba(0, 0, 0, 0.15);\n",
              "      filter: drop-shadow(0px 1px 2px rgba(0, 0, 0, 0.3));\n",
              "      fill: #FFFFFF;\n",
              "    }\n",
              "  </style>\n",
              "\n",
              "      <script>\n",
              "        const buttonEl =\n",
              "          document.querySelector('#df-70209c47-4c08-4286-9506-3e8f9f55cb75 button.colab-df-convert');\n",
              "        buttonEl.style.display =\n",
              "          google.colab.kernel.accessAllowed ? 'block' : 'none';\n",
              "\n",
              "        async function convertToInteractive(key) {\n",
              "          const element = document.querySelector('#df-70209c47-4c08-4286-9506-3e8f9f55cb75');\n",
              "          const dataTable =\n",
              "            await google.colab.kernel.invokeFunction('convertToInteractive',\n",
              "                                                     [key], {});\n",
              "          if (!dataTable) return;\n",
              "\n",
              "          const docLinkHtml = 'Like what you see? Visit the ' +\n",
              "            '<a target=\"_blank\" href=https://colab.research.google.com/notebooks/data_table.ipynb>data table notebook</a>'\n",
              "            + ' to learn more about interactive tables.';\n",
              "          element.innerHTML = '';\n",
              "          dataTable['output_type'] = 'display_data';\n",
              "          await google.colab.output.renderOutput(dataTable, element);\n",
              "          const docLink = document.createElement('div');\n",
              "          docLink.innerHTML = docLinkHtml;\n",
              "          element.appendChild(docLink);\n",
              "        }\n",
              "      </script>\n",
              "    </div>\n",
              "  </div>\n",
              "  "
            ]
          },
          "metadata": {},
          "execution_count": 15
        }
      ]
    },
    {
      "cell_type": "code",
      "source": [
        "print('{} Total papers in original df'.format(meta_df.shape[0]))\n",
        "print('{} Papers with abstract'.format(len(meta_df[meta_df['Resume'].notnull()])))"
      ],
      "metadata": {
        "colab": {
          "base_uri": "https://localhost:8080/"
        },
        "id": "KE42EiFmJxpM",
        "outputId": "d3ff0ed4-6f13-41f5-da48-874e82b44796"
      },
      "execution_count": 16,
      "outputs": [
        {
          "output_type": "stream",
          "name": "stdout",
          "text": [
            "962 Total papers in original df\n",
            "962 Papers with abstract\n"
          ]
        }
      ]
    },
    {
      "cell_type": "code",
      "source": [
        "def minimal_clean_text(text):\n",
        "    text = text.lower()\n",
        "    text = text.replace('-', ' ')\n",
        "    text = text.replace('–', ' ')\n",
        "    return text\n",
        "\n",
        "def preproc_text(text):\n",
        "    lemmatizer = WordNetLemmatizer()\n",
        "    text = re.sub(r'[^A-Za-z ]+', '', text)\n",
        "    text = minimal_clean_text(text)\n",
        "    stop_words = set(stopwords.words('english'))\n",
        "    word_tokens = word_tokenize(text)\n",
        "    cleaned_text = [lemmatizer.lemmatize(token) for token in word_tokens if token not in stop_words and len(token)>1]\n",
        "    return cleaned_text"
      ],
      "metadata": {
        "id": "wabCA5YLJ9Qn"
      },
      "execution_count": 17,
      "outputs": []
    },
    {
      "cell_type": "code",
      "source": [
        "meta_df = meta_df.dropna(subset=['Resume'])\n",
        "meta_df['Resume'] = meta_df['Resume'].apply(minimal_clean_text)\n",
        "meta_df.head(3)"
      ],
      "metadata": {
        "colab": {
          "base_uri": "https://localhost:8080/",
          "height": 143
        },
        "id": "2C8xOxgZKC1s",
        "outputId": "93d6ceef-ec17-4653-d2a0-2fa0a3959221"
      },
      "execution_count": 18,
      "outputs": [
        {
          "output_type": "execute_result",
          "data": {
            "text/plain": [
              "       Category                                             Resume\n",
              "0  Data Science  skills * programming languages: python (pandas...\n",
              "1  Data Science  education details \\r\\nmay 2013 to may 2017 b.e...\n",
              "2  Data Science  areas of interest deep learning, control syste..."
            ],
            "text/html": [
              "\n",
              "  <div id=\"df-56974ac2-b37f-4a4a-b74d-f44e69b23b7b\">\n",
              "    <div class=\"colab-df-container\">\n",
              "      <div>\n",
              "<style scoped>\n",
              "    .dataframe tbody tr th:only-of-type {\n",
              "        vertical-align: middle;\n",
              "    }\n",
              "\n",
              "    .dataframe tbody tr th {\n",
              "        vertical-align: top;\n",
              "    }\n",
              "\n",
              "    .dataframe thead th {\n",
              "        text-align: right;\n",
              "    }\n",
              "</style>\n",
              "<table border=\"1\" class=\"dataframe\">\n",
              "  <thead>\n",
              "    <tr style=\"text-align: right;\">\n",
              "      <th></th>\n",
              "      <th>Category</th>\n",
              "      <th>Resume</th>\n",
              "    </tr>\n",
              "  </thead>\n",
              "  <tbody>\n",
              "    <tr>\n",
              "      <th>0</th>\n",
              "      <td>Data Science</td>\n",
              "      <td>skills * programming languages: python (pandas...</td>\n",
              "    </tr>\n",
              "    <tr>\n",
              "      <th>1</th>\n",
              "      <td>Data Science</td>\n",
              "      <td>education details \\r\\nmay 2013 to may 2017 b.e...</td>\n",
              "    </tr>\n",
              "    <tr>\n",
              "      <th>2</th>\n",
              "      <td>Data Science</td>\n",
              "      <td>areas of interest deep learning, control syste...</td>\n",
              "    </tr>\n",
              "  </tbody>\n",
              "</table>\n",
              "</div>\n",
              "      <button class=\"colab-df-convert\" onclick=\"convertToInteractive('df-56974ac2-b37f-4a4a-b74d-f44e69b23b7b')\"\n",
              "              title=\"Convert this dataframe to an interactive table.\"\n",
              "              style=\"display:none;\">\n",
              "        \n",
              "  <svg xmlns=\"http://www.w3.org/2000/svg\" height=\"24px\"viewBox=\"0 0 24 24\"\n",
              "       width=\"24px\">\n",
              "    <path d=\"M0 0h24v24H0V0z\" fill=\"none\"/>\n",
              "    <path d=\"M18.56 5.44l.94 2.06.94-2.06 2.06-.94-2.06-.94-.94-2.06-.94 2.06-2.06.94zm-11 1L8.5 8.5l.94-2.06 2.06-.94-2.06-.94L8.5 2.5l-.94 2.06-2.06.94zm10 10l.94 2.06.94-2.06 2.06-.94-2.06-.94-.94-2.06-.94 2.06-2.06.94z\"/><path d=\"M17.41 7.96l-1.37-1.37c-.4-.4-.92-.59-1.43-.59-.52 0-1.04.2-1.43.59L10.3 9.45l-7.72 7.72c-.78.78-.78 2.05 0 2.83L4 21.41c.39.39.9.59 1.41.59.51 0 1.02-.2 1.41-.59l7.78-7.78 2.81-2.81c.8-.78.8-2.07 0-2.86zM5.41 20L4 18.59l7.72-7.72 1.47 1.35L5.41 20z\"/>\n",
              "  </svg>\n",
              "      </button>\n",
              "      \n",
              "  <style>\n",
              "    .colab-df-container {\n",
              "      display:flex;\n",
              "      flex-wrap:wrap;\n",
              "      gap: 12px;\n",
              "    }\n",
              "\n",
              "    .colab-df-convert {\n",
              "      background-color: #E8F0FE;\n",
              "      border: none;\n",
              "      border-radius: 50%;\n",
              "      cursor: pointer;\n",
              "      display: none;\n",
              "      fill: #1967D2;\n",
              "      height: 32px;\n",
              "      padding: 0 0 0 0;\n",
              "      width: 32px;\n",
              "    }\n",
              "\n",
              "    .colab-df-convert:hover {\n",
              "      background-color: #E2EBFA;\n",
              "      box-shadow: 0px 1px 2px rgba(60, 64, 67, 0.3), 0px 1px 3px 1px rgba(60, 64, 67, 0.15);\n",
              "      fill: #174EA6;\n",
              "    }\n",
              "\n",
              "    [theme=dark] .colab-df-convert {\n",
              "      background-color: #3B4455;\n",
              "      fill: #D2E3FC;\n",
              "    }\n",
              "\n",
              "    [theme=dark] .colab-df-convert:hover {\n",
              "      background-color: #434B5C;\n",
              "      box-shadow: 0px 1px 3px 1px rgba(0, 0, 0, 0.15);\n",
              "      filter: drop-shadow(0px 1px 2px rgba(0, 0, 0, 0.3));\n",
              "      fill: #FFFFFF;\n",
              "    }\n",
              "  </style>\n",
              "\n",
              "      <script>\n",
              "        const buttonEl =\n",
              "          document.querySelector('#df-56974ac2-b37f-4a4a-b74d-f44e69b23b7b button.colab-df-convert');\n",
              "        buttonEl.style.display =\n",
              "          google.colab.kernel.accessAllowed ? 'block' : 'none';\n",
              "\n",
              "        async function convertToInteractive(key) {\n",
              "          const element = document.querySelector('#df-56974ac2-b37f-4a4a-b74d-f44e69b23b7b');\n",
              "          const dataTable =\n",
              "            await google.colab.kernel.invokeFunction('convertToInteractive',\n",
              "                                                     [key], {});\n",
              "          if (!dataTable) return;\n",
              "\n",
              "          const docLinkHtml = 'Like what you see? Visit the ' +\n",
              "            '<a target=\"_blank\" href=https://colab.research.google.com/notebooks/data_table.ipynb>data table notebook</a>'\n",
              "            + ' to learn more about interactive tables.';\n",
              "          element.innerHTML = '';\n",
              "          dataTable['output_type'] = 'display_data';\n",
              "          await google.colab.output.renderOutput(dataTable, element);\n",
              "          const docLink = document.createElement('div');\n",
              "          docLink.innerHTML = docLinkHtml;\n",
              "          element.appendChild(docLink);\n",
              "        }\n",
              "      </script>\n",
              "    </div>\n",
              "  </div>\n",
              "  "
            ]
          },
          "metadata": {},
          "execution_count": 18
        }
      ]
    },
    {
      "cell_type": "code",
      "source": [
        "keywords = ['deep learning']\n",
        "\n",
        "for keyword in keywords:\n",
        "    meta_df[keyword.replace(' ', '_')] = meta_df['Resume'].apply(lambda x: True if keyword in x else False)\n",
        "resume_screening_query = '==True or '.join(keyword.replace(' ', '_') for keyword in keywords) + '==True'\n",
        "resume_screening_df = meta_df.query(resume_screening_query).reset_index(drop=True)\n",
        "resume_screening_df['tokenized_abstract'] = resume_screening_df['Resume'].apply(preproc_text)\n",
        "\n",
        "print('{:.2f}% of the abstracts contain the deep learning related phrases'.format(resume_screening_df.shape[0]/meta_df.shape[0]*100))\n",
        "print('{} papers in total'.format(resume_screening_df.shape[0]))"
      ],
      "metadata": {
        "colab": {
          "base_uri": "https://localhost:8080/"
        },
        "id": "i6ur0NgvLoNS",
        "outputId": "953d3dd3-719d-4427-f511-eaabbbc37dd6"
      },
      "execution_count": 19,
      "outputs": [
        {
          "output_type": "stream",
          "name": "stdout",
          "text": [
            "2.08% of the abstracts contain the deep learning related phrases\n",
            "20 papers in total\n"
          ]
        }
      ]
    },
    {
      "cell_type": "code",
      "source": [
        "print(resume_screening_df.head(10))"
      ],
      "metadata": {
        "colab": {
          "base_uri": "https://localhost:8080/"
        },
        "id": "vf8ZNhNMM0Sf",
        "outputId": "db94b2c3-068e-4d24-8d26-ffd08648805a"
      },
      "execution_count": 20,
      "outputs": [
        {
          "output_type": "stream",
          "name": "stdout",
          "text": [
            "       Category                                             Resume  \\\n",
            "0  Data Science  skills * programming languages: python (pandas...   \n",
            "1  Data Science  areas of interest deep learning, control syste...   \n",
            "2  Data Science  skills â¢ r â¢ python â¢ sap hana â¢ table...   \n",
            "3  Data Science  education details \\r\\n b.tech   rayat and bahr...   \n",
            "4  Data Science  personal skills â¢ ability to quickly grasp t...   \n",
            "5  Data Science  skills * programming languages: python (pandas...   \n",
            "6  Data Science  areas of interest deep learning, control syste...   \n",
            "7  Data Science  skills â¢ r â¢ python â¢ sap hana â¢ table...   \n",
            "8  Data Science  education details \\r\\n b.tech   rayat and bahr...   \n",
            "9  Data Science  personal skills â¢ ability to quickly grasp t...   \n",
            "\n",
            "   deep_learning                                 tokenized_abstract  \n",
            "0           True  [skill, programming, language, python, panda, ...  \n",
            "1           True  [area, interest, deep, learning, control, syst...  \n",
            "2           True  [skill, python, sap, hana, tableau, sap, hana,...  \n",
            "3           True  [education, detail, btech, rayat, bahra, insti...  \n",
            "4           True  [personal, skill, ability, quickly, grasp, tec...  \n",
            "5           True  [skill, programming, language, python, panda, ...  \n",
            "6           True  [area, interest, deep, learning, control, syst...  \n",
            "7           True  [skill, python, sap, hana, tableau, sap, hana,...  \n",
            "8           True  [education, detail, btech, rayat, bahra, insti...  \n",
            "9           True  [personal, skill, ability, quickly, grasp, tec...  \n"
          ]
        }
      ]
    },
    {
      "cell_type": "code",
      "source": [
        "#class for preprocessing and creating word embedding\n",
        "class Preprocessing:\n",
        "    #constructor\n",
        "    def __init__(self,txt):\n",
        "        # Tokenization\n",
        "        nltk.download('punkt')  #punkt is nltk tokenizer\n",
        "        # breaking text to sentences\n",
        "        tokens = nltk.sent_tokenize(txt)\n",
        "        self.tokens = tokens\n",
        "        self.tfidfvectoriser=TfidfVectorizer()\n",
        "\n",
        "    # Data Cleaning\n",
        "    # remove extra spaces\n",
        "    # convert sentences to lower case\n",
        "    # remove stopword\n",
        "    def clean_sentence(self, sentence, stopwords=False):\n",
        "        sentence = sentence.lower().strip()\n",
        "        sentence = re.sub(r'[^a-z0-9\\s]', '', sentence)\n",
        "        if stopwords:\n",
        "            sentence = remove_stopwords(sentence)\n",
        "        return sentence\n",
        "\n",
        "    # store cleaned sentences to cleaned_sentences\n",
        "    def get_cleaned_sentences(self,tokens, stopwords=False):\n",
        "        cleaned_sentences = []\n",
        "        for line in tokens:\n",
        "            cleaned = self.clean_sentence(line, stopwords)\n",
        "            cleaned_sentences.append(cleaned)\n",
        "        return cleaned_sentences\n",
        "\n",
        "    #do all the cleaning\n",
        "    def cleanall(self):\n",
        "        cleaned_sentences = self.get_cleaned_sentences(self.tokens, stopwords=True)\n",
        "        cleaned_sentences_with_stopwords = self.get_cleaned_sentences(self.tokens, stopwords=False)\n",
        "        # print(cleaned_sentences)\n",
        "        # print(cleaned_sentences_with_stopwords)\n",
        "        return [cleaned_sentences,cleaned_sentences_with_stopwords]\n",
        "\n",
        "    # TF-IDF Vectorizer\n",
        "    def TFIDF(self,cleaned_sentences):\n",
        "        self.tfidfvectoriser.fit(cleaned_sentences)\n",
        "        tfidf_vectors=self.tfidfvectoriser.transform(cleaned_sentences)\n",
        "        return tfidf_vectors\n",
        "\n",
        "    #tfidf for question\n",
        "    def TFIDF_Q(self,question_to_be_cleaned):\n",
        "        tfidf_vectors=self.tfidfvectoriser.transform([question_to_be_cleaned])\n",
        "        return tfidf_vectors\n",
        "\n",
        "    # main call function\n",
        "    def doall(self):\n",
        "        cleaned_sentences, cleaned_sentences_with_stopwords = self.cleanall()\n",
        "        tfidf = self.TFIDF(cleaned_sentences)\n",
        "        return [cleaned_sentences,cleaned_sentences_with_stopwords,tfidf]"
      ],
      "metadata": {
        "id": "rcYbu8mrQ_A-"
      },
      "execution_count": 21,
      "outputs": []
    },
    {
      "cell_type": "code",
      "source": [
        "class AnswerMe:\n",
        "    #cosine similarity\n",
        "    def Cosine(self, question_vector, sentence_vector):\n",
        "        dot_product = np.dot(question_vector, sentence_vector.T)\n",
        "        denominator = (np.linalg.norm(question_vector) * np.linalg.norm(sentence_vector))\n",
        "        return dot_product/denominator\n",
        "\n",
        "    #Euclidean distance\n",
        "    def Euclidean(self, question_vector, sentence_vector):\n",
        "        vec1 = question_vector.copy()\n",
        "        vec2 = sentence_vector.copy()\n",
        "        if len(vec1)<len(vec2): vec1,vec2 = vec2,vec1\n",
        "        vec2 = np.resize(vec2,(vec1.shape[0],vec1.shape[1]))\n",
        "        return np.linalg.norm(vec1-vec2)\n",
        "\n",
        "    # main call function\n",
        "    def answer(self, question_vector, sentence_vector, method):\n",
        "        if method==1: return self.Euclidean(question_vector,sentence_vector)\n",
        "        else: return self.Cosine(question_vector,sentence_vector)"
      ],
      "metadata": {
        "id": "jkDikRWjSw6W"
      },
      "execution_count": 22,
      "outputs": []
    },
    {
      "cell_type": "code",
      "source": [
        "def RetrieveAnswer(question_embedding, tfidf_vectors,method=1):\n",
        "    similarity_heap = []\n",
        "    if method==1: max_similarity = float('inf')\n",
        "    else: max_similarity = -1\n",
        "    index_similarity = -1\n",
        "\n",
        "    for index, embedding in enumerate(tfidf_vectors):\n",
        "        find_similarity = AnswerMe()\n",
        "        similarity = find_similarity.answer((question_embedding).toarray(),(embedding).toarray() , method).mean()\n",
        "        if method==1:\n",
        "            heapq.heappush(similarity_heap,(similarity,index))\n",
        "        else:\n",
        "            heapq.heappush(similarity_heap,(-similarity,index))\n",
        "\n",
        "    return similarity_heap"
      ],
      "metadata": {
        "id": "aNj5RK1gSxtb"
      },
      "execution_count": 23,
      "outputs": []
    },
    {
      "cell_type": "code",
      "source": [
        "user_question = \"know deep learning and nlp\"\n",
        "method = 1"
      ],
      "metadata": {
        "id": "fAtPlAZqTW-j"
      },
      "execution_count": 24,
      "outputs": []
    },
    {
      "cell_type": "code",
      "source": [
        "txt = meta_df['Resume'][0]\n",
        "preprocess = Preprocessing(txt)\n",
        "cleaned_sentences,cleaned_sentences_with_stopwords,tfidf_vectors = preprocess.doall()\n",
        "\n",
        "question = preprocess.clean_sentence(user_question, stopwords=True)\n",
        "question_embedding = preprocess.TFIDF_Q(question)\n",
        "\n",
        "similarity_heap = RetrieveAnswer(question_embedding , tfidf_vectors ,method)"
      ],
      "metadata": {
        "colab": {
          "base_uri": "https://localhost:8080/"
        },
        "id": "om5BH6UCRuNV",
        "outputId": "4ce359fc-f00c-4527-ee8c-0dce1557a9cb"
      },
      "execution_count": 25,
      "outputs": [
        {
          "output_type": "stream",
          "name": "stderr",
          "text": [
            "[nltk_data] Downloading package punkt to /root/nltk_data...\n",
            "[nltk_data]   Package punkt is already up-to-date!\n"
          ]
        }
      ]
    },
    {
      "cell_type": "code",
      "source": [
        "print(\"Question: \", user_question)\n",
        "\n",
        "# number of relevant solutions you want here it will print 2\n",
        "number_of_sentences_to_print = 2\n",
        "\n",
        "while number_of_sentences_to_print>0 and len(similarity_heap)>0:\n",
        "    x = similarity_heap.pop(0)\n",
        "    print(cleaned_sentences_with_stopwords[x[1]])\n",
        "    number_of_sentences_to_print-=1"
      ],
      "metadata": {
        "colab": {
          "base_uri": "https://localhost:8080/"
        },
        "id": "FEZipeQXSsBM",
        "outputId": "1458750f-15c2-48e7-e2de-078ea1ae2efc"
      },
      "execution_count": 26,
      "outputs": [
        {
          "output_type": "stream",
          "name": "stdout",
          "text": [
            "Question:  know deep learning and nlp\n",
            " machine learning regression svm nave bayes knn random forest decision trees boosting techniques cluster analysis word embedding sentiment analysis natural language processing dimensionality reduction topic modelling lda nmf pca  neural nets\n",
            " others regular expression html css angular 6 logstash kafka python flask git docker computer vision   open cv and understanding of deep learningeducation details \r\n",
            "\r\n",
            "data science assurance associate \r\n",
            "\r\n",
            "data science assurance associate   ernst  young llp\r\n",
            "skill details \r\n",
            "javascript  exprience   24 months\r\n",
            "jquery  exprience   24 months\r\n",
            "python  exprience   24 monthscompany details \r\n",
            "company   ernst  young llp\r\n",
            "description   fraud investigations and dispute services   assurance\r\n",
            "technology assisted review\r\n",
            "tar technology assisted review assists in accelerating the review process and run analytics and generate reports\n"
          ]
        }
      ]
    }
  ]
}